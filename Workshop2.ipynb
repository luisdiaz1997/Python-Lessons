{
  "nbformat": 4,
  "nbformat_minor": 0,
  "metadata": {
    "kernelspec": {
      "display_name": "Python 3",
      "language": "python",
      "name": "python3"
    },
    "language_info": {
      "codemirror_mode": {
        "name": "ipython",
        "version": 3
      },
      "file_extension": ".py",
      "mimetype": "text/x-python",
      "name": "python",
      "nbconvert_exporter": "python",
      "pygments_lexer": "ipython3",
      "version": "3.7.0"
    },
    "colab": {
      "name": "Workshop2Final",
      "provenance": [],
      "collapsed_sections": [],
      "include_colab_link": true
    }
  },
  "cells": [
    {
      "cell_type": "markdown",
      "metadata": {
        "id": "view-in-github",
        "colab_type": "text"
      },
      "source": [
        "<a href=\"https://colab.research.google.com/github/luisdiaz1997/Python-Lessons/blob/master/Workshop2.ipynb\" target=\"_parent\"><img src=\"https://colab.research.google.com/assets/colab-badge.svg\" alt=\"Open In Colab\"/></a>"
      ]
    },
    {
      "cell_type": "markdown",
      "metadata": {
        "id": "AxaJF_opJTcg",
        "colab_type": "text"
      },
      "source": [
        "# WELCOME BACK TO SACNAS' PYTHON WORKSHOP \n",
        "hosted by Luis and Emily\n"
      ]
    },
    {
      "cell_type": "markdown",
      "metadata": {
        "id": "x5h1xeyDJTcm",
        "colab_type": "text"
      },
      "source": [
        "### Introduction:\n",
        "Sign in and grab food! \n",
        "### Import the necessary libraries/packages:\n",
        "There are tools you can download into your code to implement. Think of these like your toolbox, to create plots, analyze data, and endless possibilities \n"
      ]
    },
    {
      "cell_type": "code",
      "metadata": {
        "id": "2aVvhKbyJTcp",
        "colab_type": "code",
        "colab": {}
      },
      "source": [
        "import pandas as pd\n",
        "import numpy as np\n",
        "\n",
        "# visualization libraries\n",
        "import matplotlib.pyplot as plt\n",
        "\n"
      ],
      "execution_count": 0,
      "outputs": []
    },
    {
      "cell_type": "markdown",
      "metadata": {
        "id": "J7Gb9C04JTc2",
        "colab_type": "text"
      },
      "source": [
        "### Import data and assign it to a variable called tips"
      ]
    },
    {
      "cell_type": "code",
      "metadata": {
        "id": "69zVfMAOJTc5",
        "colab_type": "code",
        "colab": {}
      },
      "source": [
        "url = 'https://raw.githubusercontent.com/guipsamora/pandas_exercises/master/07_Visualization/Tips/tips.csv'\n"
      ],
      "execution_count": 0,
      "outputs": []
    },
    {
      "cell_type": "markdown",
      "metadata": {
        "id": "sjzak6sPmyqE",
        "colab_type": "text"
      },
      "source": [
        "# .describe()\n",
        "Generate descriptive statistics that summarize the central tendency, dispersion and shape of a dataset’s distribution, excluding NaN values.\n",
        "\n"
      ]
    },
    {
      "cell_type": "code",
      "metadata": {
        "id": "Y8dWzCXLNlyr",
        "colab_type": "code",
        "colab": {}
      },
      "source": [
        ""
      ],
      "execution_count": 0,
      "outputs": []
    },
    {
      "cell_type": "markdown",
      "metadata": {
        "id": "5vKLOQ0gnpl7",
        "colab_type": "text"
      },
      "source": [
        "# For loops \n",
        "a for-loop is a control flow statement for specifying iteration, which allows code to be executed repeatedly. "
      ]
    },
    {
      "cell_type": "code",
      "metadata": {
        "id": "k78KOpgBbfT6",
        "colab_type": "code",
        "colab": {}
      },
      "source": [
        "x = [1, 2, 3, 4, 5, 6, 7, 8, 9, 10]\n"
      ],
      "execution_count": 0,
      "outputs": []
    },
    {
      "cell_type": "markdown",
      "metadata": {
        "id": "LqILy_GWr3Af",
        "colab_type": "text"
      },
      "source": [
        "# Working with our dataset\n",
        "\n",
        "Recap on worksheet. "
      ]
    },
    {
      "cell_type": "markdown",
      "metadata": {
        "id": "wFVe4XRnYJDj",
        "colab_type": "text"
      },
      "source": [
        "### What day are people more likely to tip?\n"
      ]
    },
    {
      "cell_type": "code",
      "metadata": {
        "id": "0lMeXjyMT1cO",
        "colab_type": "code",
        "colab": {}
      },
      "source": [
        ""
      ],
      "execution_count": 0,
      "outputs": []
    },
    {
      "cell_type": "code",
      "metadata": {
        "id": "iz1KQYR91w-J",
        "colab_type": "code",
        "colab": {}
      },
      "source": [
        ""
      ],
      "execution_count": 0,
      "outputs": []
    },
    {
      "cell_type": "code",
      "metadata": {
        "id": "PoSNiD0f1dPp",
        "colab_type": "code",
        "colab": {}
      },
      "source": [
        "\n"
      ],
      "execution_count": 0,
      "outputs": []
    },
    {
      "cell_type": "markdown",
      "metadata": {
        "id": "vRaEPrSw3Jof",
        "colab_type": "text"
      },
      "source": [
        "### How can we automate a print statement using a For loop?"
      ]
    },
    {
      "cell_type": "code",
      "metadata": {
        "id": "ZJo4kixDZbsb",
        "colab_type": "code",
        "colab": {}
      },
      "source": [
        ""
      ],
      "execution_count": 0,
      "outputs": []
    },
    {
      "cell_type": "code",
      "metadata": {
        "id": "E693zzQmaYGC",
        "colab_type": "code",
        "colab": {}
      },
      "source": [
        ""
      ],
      "execution_count": 0,
      "outputs": []
    },
    {
      "cell_type": "markdown",
      "metadata": {
        "id": "Qf6sBoO-U66i",
        "colab_type": "text"
      },
      "source": [
        "### How do we store these values? "
      ]
    },
    {
      "cell_type": "code",
      "metadata": {
        "id": "RIwaq-qDUyIt",
        "colab_type": "code",
        "colab": {}
      },
      "source": [
        ""
      ],
      "execution_count": 0,
      "outputs": []
    },
    {
      "cell_type": "markdown",
      "metadata": {
        "id": "4kPnPJoV4B_F",
        "colab_type": "text"
      },
      "source": [
        "### Lists, Arrays , Dictionaries \n"
      ]
    },
    {
      "cell_type": "code",
      "metadata": {
        "id": "4ndcvjivgMm9",
        "colab_type": "code",
        "colab": {}
      },
      "source": [
        ""
      ],
      "execution_count": 0,
      "outputs": []
    },
    {
      "cell_type": "markdown",
      "metadata": {
        "id": "TZRo9n5w8hbs",
        "colab_type": "text"
      },
      "source": [
        "### Plotting a bar graph\n",
        "\n",
        "parameters are what you need inside the paranthesis for the function you are calling to work. \n",
        "\n",
        "plt.bar(x coordinate, height)"
      ]
    },
    {
      "cell_type": "code",
      "metadata": {
        "id": "eDCWE2LLhZW0",
        "colab_type": "code",
        "colab": {}
      },
      "source": [
        ""
      ],
      "execution_count": 0,
      "outputs": []
    },
    {
      "cell_type": "markdown",
      "metadata": {
        "id": "bdSiQBJFYEm-",
        "colab_type": "text"
      },
      "source": [
        "### Who tips more? Smokers or non smokers?"
      ]
    },
    {
      "cell_type": "code",
      "metadata": {
        "id": "qJT-14eAYHFY",
        "colab_type": "code",
        "colab": {}
      },
      "source": [
        ""
      ],
      "execution_count": 0,
      "outputs": []
    },
    {
      "cell_type": "markdown",
      "metadata": {
        "colab_type": "text",
        "id": "0qNTrnxKv-HE"
      },
      "source": [
        "\n",
        "\n",
        "\n",
        "\n",
        "### Who tips more? Women or Men\n"
      ]
    },
    {
      "cell_type": "code",
      "metadata": {
        "id": "uZs4uot0YNAf",
        "colab_type": "code",
        "colab": {}
      },
      "source": [
        ""
      ],
      "execution_count": 0,
      "outputs": []
    },
    {
      "cell_type": "code",
      "metadata": {
        "id": "xvtqDgLGYNbR",
        "colab_type": "code",
        "colab": {}
      },
      "source": [
        ""
      ],
      "execution_count": 0,
      "outputs": []
    },
    {
      "cell_type": "markdown",
      "metadata": {
        "id": "u7_IXPUQJTdJ",
        "colab_type": "text"
      },
      "source": [
        "### Plot the total_bill column using a histogram"
      ]
    },
    {
      "cell_type": "code",
      "metadata": {
        "id": "zXRGtRo2JTdL",
        "colab_type": "code",
        "colab": {}
      },
      "source": [
        ""
      ],
      "execution_count": 0,
      "outputs": []
    },
    {
      "cell_type": "markdown",
      "metadata": {
        "id": "iZyiP6hwJTdR",
        "colab_type": "text"
      },
      "source": [
        "### Create a scatter plot presenting the relationship between total_bill and tip\n",
        "\n",
        "---\n",
        "\n"
      ]
    },
    {
      "cell_type": "code",
      "metadata": {
        "id": "u8Ev3f2-JTdU",
        "colab_type": "code",
        "colab": {}
      },
      "source": [
        ""
      ],
      "execution_count": 0,
      "outputs": []
    },
    {
      "cell_type": "markdown",
      "metadata": {
        "id": "qP131bH3JTdY",
        "colab_type": "text"
      },
      "source": [
        "### Create one plot with the relationship of size and tip."
      ]
    },
    {
      "cell_type": "code",
      "metadata": {
        "id": "2DLaXwH-JTdZ",
        "colab_type": "code",
        "colab": {}
      },
      "source": [
        ""
      ],
      "execution_count": 0,
      "outputs": []
    }
  ]
}