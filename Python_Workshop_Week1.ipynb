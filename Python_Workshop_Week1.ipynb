{
  "nbformat": 4,
  "nbformat_minor": 0,
  "metadata": {
    "colab": {
      "name": "Workshop week1.ipynb",
      "provenance": [],
      "include_colab_link": true
    },
    "kernelspec": {
      "name": "python3",
      "display_name": "Python 3"
    }
  },
  "cells": [
    {
      "cell_type": "markdown",
      "metadata": {
        "id": "view-in-github",
        "colab_type": "text"
      },
      "source": [
        "<a href=\"https://colab.research.google.com/github/luisdiaz1997/Python-Lessons/blob/master/Python_Workshop_Week1.ipynb\" target=\"_parent\"><img src=\"https://colab.research.google.com/assets/colab-badge.svg\" alt=\"Open In Colab\"/></a>"
      ]
    },
    {
      "cell_type": "markdown",
      "metadata": {
        "id": "8ZG3RSMEG_QU",
        "colab_type": "text"
      },
      "source": [
        "# PACKAGES \n",
        "\n",
        "There are tools you can download into your code to implement. Think of these like your toolbox, to create plots, analyze data, and "
      ]
    },
    {
      "cell_type": "code",
      "metadata": {
        "id": "RAKk3_pBjh4E",
        "colab_type": "code",
        "colab": {}
      },
      "source": [
        ""
      ],
      "execution_count": 0,
      "outputs": []
    },
    {
      "cell_type": "markdown",
      "metadata": {
        "id": "HRi-8zH1HC2M",
        "colab_type": "text"
      },
      "source": [
        "# IMPORT DATA\n",
        "\n",
        "Pd. - pandas : used for data manipulation and analysis \n",
        "\n",
        "pd.read_csv({dataframe}) \n",
        "\n",
        "variables : a way to name your values to refer to them "
      ]
    },
    {
      "cell_type": "code",
      "metadata": {
        "id": "-dTA8yZkkPKd",
        "colab_type": "code",
        "colab": {}
      },
      "source": [
        "url_link = \"https://raw.githubusercontent.com/luisdiaz1997/Python-Lessons/master/IMDB-Movie-Data.csv\""
      ],
      "execution_count": 0,
      "outputs": []
    },
    {
      "cell_type": "markdown",
      "metadata": {
        "id": "jseXO1XqZ42H",
        "colab_type": "text"
      },
      "source": [
        "# Google \n",
        "\n",
        "how can you view the first five lines of the dataframe?  "
      ]
    },
    {
      "cell_type": "code",
      "metadata": {
        "id": "rE5D09WCXdos",
        "colab_type": "code",
        "colab": {}
      },
      "source": [
        ""
      ],
      "execution_count": 0,
      "outputs": []
    },
    {
      "cell_type": "code",
      "metadata": {
        "id": "LonoOeLIH_it",
        "colab_type": "code",
        "colab": {}
      },
      "source": [
        ""
      ],
      "execution_count": 0,
      "outputs": []
    },
    {
      "cell_type": "code",
      "metadata": {
        "id": "OShBVCGpH_ob",
        "colab_type": "code",
        "colab": {}
      },
      "source": [
        ""
      ],
      "execution_count": 0,
      "outputs": []
    },
    {
      "cell_type": "markdown",
      "metadata": {
        "id": "5I1ACp7VXgCp",
        "colab_type": "text"
      },
      "source": [
        "## How we can access rows"
      ]
    },
    {
      "cell_type": "code",
      "metadata": {
        "id": "80tX4SoUH7DD",
        "colab_type": "code",
        "colab": {}
      },
      "source": [
        ""
      ],
      "execution_count": 0,
      "outputs": []
    },
    {
      "cell_type": "code",
      "metadata": {
        "id": "5-z1XffTH7Li",
        "colab_type": "code",
        "colab": {}
      },
      "source": [
        ""
      ],
      "execution_count": 0,
      "outputs": []
    },
    {
      "cell_type": "markdown",
      "metadata": {
        "id": "3Q7xuTZ5m7N7",
        "colab_type": "text"
      },
      "source": [
        "## How we can access multiple rows?"
      ]
    },
    {
      "cell_type": "code",
      "metadata": {
        "id": "Twnz7qjuH7lA",
        "colab_type": "code",
        "colab": {}
      },
      "source": [
        ""
      ],
      "execution_count": 0,
      "outputs": []
    },
    {
      "cell_type": "markdown",
      "metadata": {
        "id": "1CZUhL_CjT7l",
        "colab_type": "text"
      },
      "source": [
        "##Accessing Columns"
      ]
    },
    {
      "cell_type": "code",
      "metadata": {
        "id": "jHMPmhinH8K5",
        "colab_type": "code",
        "colab": {}
      },
      "source": [
        ""
      ],
      "execution_count": 0,
      "outputs": []
    },
    {
      "cell_type": "markdown",
      "metadata": {
        "id": "pceAut44C9UY",
        "colab_type": "text"
      },
      "source": [
        "## Get the movies released 2015"
      ]
    },
    {
      "cell_type": "code",
      "metadata": {
        "id": "vZTCXyCGQT3x",
        "colab_type": "code",
        "colab": {}
      },
      "source": [
        ""
      ],
      "execution_count": 0,
      "outputs": []
    },
    {
      "cell_type": "markdown",
      "metadata": {
        "id": "b4l7-tCtLOd9",
        "colab_type": "text"
      },
      "source": [
        "##Get the movies with a rating higher than 8"
      ]
    },
    {
      "cell_type": "code",
      "metadata": {
        "id": "Q1sl32MFjeHY",
        "colab_type": "code",
        "colab": {}
      },
      "source": [
        ""
      ],
      "execution_count": 0,
      "outputs": []
    },
    {
      "cell_type": "code",
      "metadata": {
        "id": "L7BgXQgejePQ",
        "colab_type": "code",
        "colab": {}
      },
      "source": [
        ""
      ],
      "execution_count": 0,
      "outputs": []
    },
    {
      "cell_type": "markdown",
      "metadata": {
        "id": "fH1akRxwJEzF",
        "colab_type": "text"
      },
      "source": [
        "## Get the movies with a rating higher than 7 and released 2014"
      ]
    },
    {
      "cell_type": "code",
      "metadata": {
        "id": "clprus-tJEAe",
        "colab_type": "code",
        "colab": {}
      },
      "source": [
        ""
      ],
      "execution_count": 0,
      "outputs": []
    },
    {
      "cell_type": "markdown",
      "metadata": {
        "id": "xR7S_rhHkC8D",
        "colab_type": "text"
      },
      "source": [
        "#Some useful numpy functions"
      ]
    },
    {
      "cell_type": "code",
      "metadata": {
        "id": "VXHejzoTky4b",
        "colab_type": "code",
        "colab": {}
      },
      "source": [
        ""
      ],
      "execution_count": 0,
      "outputs": []
    },
    {
      "cell_type": "code",
      "metadata": {
        "id": "pGFJBokVky_q",
        "colab_type": "code",
        "colab": {}
      },
      "source": [
        ""
      ],
      "execution_count": 0,
      "outputs": []
    },
    {
      "cell_type": "markdown",
      "metadata": {
        "id": "5ZFjmhtokyQv",
        "colab_type": "text"
      },
      "source": [
        "##What was the maximum length of movies?"
      ]
    },
    {
      "cell_type": "code",
      "metadata": {
        "id": "HYPcnhKRkJNL",
        "colab_type": "code",
        "colab": {}
      },
      "source": [
        ""
      ],
      "execution_count": 0,
      "outputs": []
    },
    {
      "cell_type": "markdown",
      "metadata": {
        "id": "Yj09fzuJL1rT",
        "colab_type": "text"
      },
      "source": [
        "## What was the maximum duration of the movies in 2014?"
      ]
    },
    {
      "cell_type": "code",
      "metadata": {
        "id": "gXGMtrNpj0Wj",
        "colab_type": "code",
        "colab": {}
      },
      "source": [
        ""
      ],
      "execution_count": 0,
      "outputs": []
    },
    {
      "cell_type": "code",
      "metadata": {
        "id": "EjFkbkLcj0ha",
        "colab_type": "code",
        "colab": {}
      },
      "source": [
        ""
      ],
      "execution_count": 0,
      "outputs": []
    },
    {
      "cell_type": "markdown",
      "metadata": {
        "id": "onQ4cHuYlcZW",
        "colab_type": "text"
      },
      "source": [
        "##What was the average duration of movies in 2015?"
      ]
    },
    {
      "cell_type": "code",
      "metadata": {
        "id": "1x1lrOjalkoO",
        "colab_type": "code",
        "colab": {}
      },
      "source": [
        ""
      ],
      "execution_count": 0,
      "outputs": []
    },
    {
      "cell_type": "code",
      "metadata": {
        "id": "LFNHNqQYlk88",
        "colab_type": "code",
        "colab": {}
      },
      "source": [
        ""
      ],
      "execution_count": 0,
      "outputs": []
    },
    {
      "cell_type": "markdown",
      "metadata": {
        "id": "8eJhxWzvjora",
        "colab_type": "text"
      },
      "source": [
        "#Challenge Question\n",
        "\n",
        "##In the year 2016, what was the average rating of movies?"
      ]
    },
    {
      "cell_type": "code",
      "metadata": {
        "id": "jRRfmayyH5km",
        "colab_type": "code",
        "colab": {}
      },
      "source": [
        ""
      ],
      "execution_count": 0,
      "outputs": []
    },
    {
      "cell_type": "code",
      "metadata": {
        "id": "ms6CBUD8H5tC",
        "colab_type": "code",
        "colab": {}
      },
      "source": [
        ""
      ],
      "execution_count": 0,
      "outputs": []
    },
    {
      "cell_type": "markdown",
      "metadata": {
        "id": "eUCEUH-dzoXO",
        "colab_type": "text"
      },
      "source": [
        "##unique function"
      ]
    },
    {
      "cell_type": "code",
      "metadata": {
        "id": "Ilv-bjkSIB1E",
        "colab_type": "code",
        "colab": {}
      },
      "source": [
        ""
      ],
      "execution_count": 0,
      "outputs": []
    },
    {
      "cell_type": "code",
      "metadata": {
        "id": "uiQ-UR4AICVO",
        "colab_type": "code",
        "colab": {}
      },
      "source": [
        ""
      ],
      "execution_count": 0,
      "outputs": []
    },
    {
      "cell_type": "code",
      "metadata": {
        "id": "MUI2DEo4mxhV",
        "colab_type": "code",
        "colab": {}
      },
      "source": [
        ""
      ],
      "execution_count": 0,
      "outputs": []
    },
    {
      "cell_type": "markdown",
      "metadata": {
        "id": "vHt7cLs1IDcR",
        "colab_type": "text"
      },
      "source": [
        "## For loop"
      ]
    },
    {
      "cell_type": "code",
      "metadata": {
        "id": "O0FMMBbZLN4f",
        "colab_type": "code",
        "colab": {}
      },
      "source": [
        ""
      ],
      "execution_count": 0,
      "outputs": []
    },
    {
      "cell_type": "code",
      "metadata": {
        "id": "A3Bn-733LOHx",
        "colab_type": "code",
        "colab": {}
      },
      "source": [
        ""
      ],
      "execution_count": 0,
      "outputs": []
    },
    {
      "cell_type": "markdown",
      "metadata": {
        "id": "fZHGtk8aLCNI",
        "colab_type": "text"
      },
      "source": [
        "## What year had best average rating?"
      ]
    },
    {
      "cell_type": "code",
      "metadata": {
        "id": "913igq4GK-xc",
        "colab_type": "code",
        "colab": {}
      },
      "source": [
        ""
      ],
      "execution_count": 0,
      "outputs": []
    },
    {
      "cell_type": "markdown",
      "metadata": {
        "id": "LBnr18bFLQrf",
        "colab_type": "text"
      },
      "source": [
        "#Challenge 2\n",
        "##What year had the the biggest average length of movies?"
      ]
    },
    {
      "cell_type": "code",
      "metadata": {
        "id": "YSpMGYHsLf5O",
        "colab_type": "code",
        "colab": {}
      },
      "source": [
        ""
      ],
      "execution_count": 0,
      "outputs": []
    }
  ]
}